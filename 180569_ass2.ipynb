{
  "nbformat": 4,
  "nbformat_minor": 0,
  "metadata": {
    "colab": {
      "name": "180569_ass2.ipynb",
      "private_outputs": true,
      "provenance": [],
      "authorship_tag": "ABX9TyMD70iVqaMMq62kbN4ZUxXs",
      "include_colab_link": true
    },
    "kernelspec": {
      "name": "python3",
      "display_name": "Python 3"
    },
    "language_info": {
      "name": "python"
    }
  },
  "cells": [
    {
      "cell_type": "markdown",
      "metadata": {
        "id": "view-in-github",
        "colab_type": "text"
      },
      "source": [
        "<a href=\"https://colab.research.google.com/github/pushp-2401/ae451/blob/main/180569_ass2.ipynb\" target=\"_parent\"><img src=\"https://colab.research.google.com/assets/colab-badge.svg\" alt=\"Open In Colab\"/></a>"
      ]
    },
    {
      "cell_type": "code",
      "metadata": {
        "id": "AU2MZf856YRW"
      },
      "source": [
        "import numpy as np\n",
        "import matplotlib.pyplot as plt"
      ],
      "execution_count": null,
      "outputs": []
    },
    {
      "cell_type": "code",
      "metadata": {
        "id": "bCXabv4r64i-"
      },
      "source": [
        "phi=list(np.arange(0.5,1.5,0.01)) "
      ],
      "execution_count": null,
      "outputs": []
    },
    {
      "cell_type": "code",
      "metadata": {
        "id": "ITqrF0v47PvM"
      },
      "source": [
        "#@title Constant Cp { form-width: \"20%\" }\n",
        "# CASE 1: CONSTANT Cp\n",
        "\n",
        "\n",
        "# Constant Cp at 1200K\n",
        "cp_CH4 = 78.84; cp_CO2 = 56.21; cp_H2O = 43.87; cp_N2= 33.71; cp_O2 = 35.59\n",
        "\n",
        "# Enthalpy of formation at 298K\n",
        "hfo_CH4= -74831; hfo_CO2= -393546; hfo_H2O= -241845;  hfo_N2=0; hfo_O2 = 0\n",
        "\n",
        "#function to find T_adiabatic\n",
        "def atcp(Ti):\n",
        "    ad_T=[]\n",
        "    for i in phi:\n",
        "        x=2/i\n",
        "        \n",
        "        # balancing coefficients of reactants(a.CH4 + b.O2 +c.N2)\n",
        "        a=1; b=x; c=x*3.76\n",
        "\n",
        "        # balancing coefficients of products (d.CH4 + e.CO2 + f.H2O + g.O2 + h.N2)\n",
        "        \n",
        "        # Fuel lean and stoichiometric conditions\n",
        "        if i<=1:\n",
        "            d=0; e=1; f=2; g=x-2; h=x*3.76\n",
        "            \n",
        "        # Fuel rich condition\n",
        "        else:\n",
        "            d=1-x/2; e=x/2; f=x; g=0; h=x*3.76\n",
        "\n",
        "         #at standard condition, no contribution of sensible enthalpy\n",
        "        H_reac = a*(hfo_CH4) + b*(hfo_O2)+c*hfo_N2\n",
        "           \n",
        "        T_ad=((H_reac-(d*hfo_CH4+e*hfo_CO2+f*hfo_H2O+g*hfo_O2+h*hfo_N2))/(d*cp_CH4+e*cp_CO2+f*cp_H2O+g*cp_O2+h*cp_N2))+Ti\n",
        "        \n",
        "        ad_T.append(T_ad)\n",
        "    \n",
        "    return ad_T"
      ],
      "execution_count": null,
      "outputs": []
    },
    {
      "cell_type": "code",
      "metadata": {
        "id": "Wr4O06Xe-YoG"
      },
      "source": [
        "#@title Calculation of T adiabatic { form-width: \"20%\" }\n",
        "T_ad1 = atcp(298)\n",
        "\n",
        "# Enthalpy of formation at 500K\n",
        "hfo_CH4= -74831; hfo_CO2= -393712; hfo_H2O= -243822;  hfo_N2=0; hfo_O2 = 0\n",
        "T_ad2 = atcp(500)\n",
        "\n",
        "# Enthalpy of formation at 700K\n",
        "hfo_CH4= -74831; hfo_CO2= -394013; hfo_H2O= -245638;  hfo_N2=0; hfo_O2 = 0\n",
        "T_ad3 = atcp(700)"
      ],
      "execution_count": null,
      "outputs": []
    },
    {
      "cell_type": "code",
      "metadata": {
        "id": "JG5VZa4V-kKp"
      },
      "source": [
        "plt.plot(phi, T_ad1,'k',label='Ti=298K')\n",
        "plt.plot(phi, T_ad2,'b',label='Ti=500K')\n",
        "plt.plot(phi, T_ad3,'y',label='Ti=700K')\n",
        "plt.title('Adiabatic Flame Temperature vs $\\phi$ (Constant Cp)')\n",
        "plt.xlabel('$\\phi$'); \n",
        "plt.ylabel('Adiabatic Flame Temperature (K)') \n",
        "plt.legend()\n",
        "plt.show()"
      ],
      "execution_count": null,
      "outputs": []
    },
    {
      "cell_type": "code",
      "metadata": {
        "id": "vdsvFNKTBHAk"
      },
      "source": [
        "#@title Variable Cp { form-width: \"20%\" }\n",
        "R=8.314 # Universal Gas Constant\n",
        "def cp_CH4(t):\n",
        "     return (-0.2915e-3*t + 26.237e-6/2*(t**2) - 10.61e-9/3*(t**3) + 1.5656e-12/4*(t**4) - 0.1657e3/t )*4184\n",
        "\n",
        "def cp_CO2_up(t):\n",
        "    return (0.04454e2*t + 0.031402e-1/2*(t**2) - 0.1278e-5/3*(t**3) + 0.02394e-8/4*(t**4) - 0.1669e-13/5*(t**5))*R\n",
        "\n",
        "def cp_H2O_up(t):\n",
        "    return (0.0267e2*t + 0.03056e-1/2*(t**2) - 0.0873e-5/3*(t**3) + 0.1201e-9/4*(t**4) - 0.0639e-13/5*(t**5)) *R\n",
        "\n",
        "def cp_N2_up(t):\n",
        "    return (0.0292e2*t + 0.1488e-2/2*(t**2) - 0.0568e-5/3*(t**3) + 0.1009e-9/4*(t**4) - 0.0675e-13/5*(t**5))*R\n",
        "\n",
        "def cp_O2_up(t):\n",
        "    return (0.03698e2*t + 0.0613e-2/2*(t**2) - 0.1259e-6/3*(t**3) + 0.0177e-9/4*(t**4) - 0.1136e-14/5*(t**5))*R"
      ],
      "execution_count": null,
      "outputs": []
    },
    {
      "cell_type": "code",
      "metadata": {
        "id": "1yV9kIGlBL5m"
      },
      "source": [
        "def adia_T_variable_Cp(Ti):\n",
        "    ad_T=[]\n",
        "    for i in phi:\n",
        "        x=2/i\n",
        "        \n",
        "        # balancing coefficients of reactants(a.CH4 + b.O2 +c.N2)\n",
        "        a=1; b=x; c=x*3.76\n",
        "\n",
        "        # balancing coefficients of products (d.CH4 + e.CO2 + f.H2O + g.O2 + h.N2)\n",
        "        \n",
        "        # Fuel lean and stoichiometric conditions\n",
        "        if i<=1:\n",
        "            d=0; e=1; f=2; g=x-2; h=x*3.76\n",
        "            \n",
        "        # Fuel rich condition\n",
        "        else:\n",
        "            d=1-x/2; e=x/2; f=x; g=0; h=x*3.76\n",
        "\n",
        "        #at standard condition, no contribution of sensible enthalpy\n",
        "        H_reac = a*(hfo_CH4) + b*(hfo_O2)+c*hfo_N2   \n",
        "        H_form = (d*hfo_CH4+e*hfo_CO2+f*hfo_H2O+g*hfo_O2+h*hfo_N2)\n",
        "        Cp_Ti_sum=(d*cp_CH4(Ti)+e*cp_CO2_up(Ti)+f*cp_H2O_up(Ti)+g*cp_O2_up(Ti)+h*cp_N2_up(Ti))\n",
        "        \n",
        "        m=H_reac-H_form +Cp_Ti_sum\n",
        "       \n",
        "        Cp_CH4_Tad= d*np.array([0, 1.5656e-12/4, - 10.61e-9/3, 26.237e-6/2, -0.2915e-3,0])*4184\n",
        "        Cp_CO2_Tad= e*np.array([- 0.1669e-13/5, 0.0239e-8/4, - 0.1278e-5/3, 0.0314e-1/2, 0.0445e2, 0])*R\n",
        "        Cp_H2O_Tad= f*np.array([- 0.0639e-13/5, 0.12e-9/4, - 0.0873e-5/3, 0.0305e-1/2, 0.0267e2, 0])*R\n",
        "        Cp_O2_Tad= g*np.array([- 0.1136e-14/5, 0.0177e-9/4, - 0.1258e-6/3, 0.0613e-2/2, 0.0369e2, 0])*R\n",
        "        Cp_N2_Tad= h*np.array([- 0.0675e-13/5, 0.1009e-9/4, - 0.0568e-5/3, 0.1487e-2/2, 0.0292e2, 0])*R\n",
        "        \n",
        "        #sum of corresponding coefficients\n",
        "        coeff= Cp_CH4_Tad+Cp_CO2_Tad+Cp_H2O_Tad+Cp_O2_Tad+Cp_N2_Tad \n",
        "        \n",
        "        #obtaining the final equation's coefficients to solve\n",
        "        coeff[5]=-m\n",
        "        coeff=np.concatenate((coeff,[- 0.1657e3*4184]),axis=None)\n",
        "      \n",
        "        \n",
        "        # finding the roots(T_ad)\n",
        "        roots=(np.roots(coeff))\n",
        "       \n",
        "        # Filtering the -ve and imaginary roots\n",
        "        for j in roots:\n",
        "        \n",
        "            if j.imag==0 and j.real>1 and j.real<5000 :\n",
        "                ad_T.append(j.real)\n",
        "                break\n",
        "    return ad_T"
      ],
      "execution_count": null,
      "outputs": []
    },
    {
      "cell_type": "code",
      "metadata": {
        "id": "7FLZtjPlBXK1"
      },
      "source": [
        "var_T_ad1 = adia_T_variable_Cp(298)\n",
        "\n",
        "\n",
        "# Enthalpy of formation at 500K\n",
        "hfo_CH4= -74831; hfo_CO2= -393712; hfo_H2O= -243822;  hfo_N2=0; hfo_O2 = 0\n",
        "var_T_ad2 = adia_T_variable_Cp(500)\n",
        "\n",
        "\n",
        "# Enthalpy of formation at 700K\n",
        "hfo_CH4= -74831; hfo_CO2= -394013; hfo_H2O= -245638;  hfo_N2=0; hfo_O2 = 0\n",
        "var_T_ad3 = adia_T_variable_Cp(700)"
      ],
      "execution_count": null,
      "outputs": []
    },
    {
      "cell_type": "code",
      "metadata": {
        "id": "fdiX7NdsBx7W"
      },
      "source": [
        "# Plotting Graphs for variable Cp\n",
        "\n",
        "plt.plot(phi, var_T_ad1,'-*',label='Ti=298K')\n",
        "plt.plot(phi, var_T_ad2,'-*',label='Ti=500K')\n",
        "plt.plot(phi, var_T_ad3,'-*',label='Ti=700K')\n",
        "plt.title('Adiabatic Flame Temperature vs $\\phi$ (Variable Cp)')\n",
        "plt.xlabel('$\\phi$'); plt.ylabel('Adiabatic Flame Temperature (K)')\n",
        "plt.legend()\n",
        "plt.show()"
      ],
      "execution_count": null,
      "outputs": []
    }
  ]
}